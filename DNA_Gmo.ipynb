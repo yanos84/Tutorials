{
  "nbformat": 4,
  "nbformat_minor": 0,
  "metadata": {
    "colab": {
      "provenance": [],
      "authorship_tag": "ABX9TyN+WTvE8Zr8XtAqbBpj2bLW",
      "include_colab_link": true
    },
    "kernelspec": {
      "name": "python3",
      "display_name": "Python 3"
    },
    "language_info": {
      "name": "python"
    }
  },
  "cells": [
    {
      "cell_type": "markdown",
      "metadata": {
        "id": "view-in-github",
        "colab_type": "text"
      },
      "source": [
        "<a href=\"https://colab.research.google.com/github/yanos84/Tutorials/blob/main/DNA_Gmo.ipynb\" target=\"_parent\"><img src=\"https://colab.research.google.com/assets/colab-badge.svg\" alt=\"Open In Colab\"/></a>"
      ]
    },
    {
      "cell_type": "code",
      "source": [
        "# prompt: generate randomly data like this dna_sequences = [\n",
        "#     \"ATCGTAGCTAGT\", \"GCTAGCTAGCTA\", \"TGCATGCATGCA\", \"ATGCGTACGTAC\",\n",
        "#     \"GTACGTACGTAC\", \"CTAGCTAGCTAG\", \"TGCATGCATGCA\", \"ATCGTAGCTAGT\"\n",
        "# ]\n",
        "\n",
        "import random\n",
        "\n",
        "def generate_dna_sequence(length=100):\n",
        "    bases = ['A', 'T', 'C', 'G']\n",
        "    sequence = ''.join(random.choice(bases) for _ in range(length))\n",
        "    return sequence\n",
        "\n",
        "dna_sequences = [generate_dna_sequence(100) for _ in range(20)]\n",
        "dna_sequences\n"
      ],
      "metadata": {
        "colab": {
          "base_uri": "https://localhost:8080/"
        },
        "id": "WWJYRJZjuloQ",
        "outputId": "a7539944-909b-4930-f174-43d44c8a427a"
      },
      "execution_count": 11,
      "outputs": [
        {
          "output_type": "execute_result",
          "data": {
            "text/plain": [
              "['TGGTGCCCGTCTAAACCCCCTCGGTTCGAGGCAAAGGGTTCTACCGTCTCAATGTGGTCCTATGTCCTCGATAAGCATGTGACGTTAGCATGCTACGACG',\n",
              " 'CGGCTCGCAGACGGTGCAGGTATGTGAAATATGTAAGTAATATTTAGTGTGAAAGCTGTTCGAAAGAAATCCCACACGGCCTCCCATCTAGACTAGGAAG',\n",
              " 'AGCCTGATGTGAACCCTATATATTACTCGGCGCCGCCATTTGATCAGTGATGAATATCCGAAAACGCAAGTACCAGAAGGGGTTCGGTTTCCTCAAAGAT',\n",
              " 'CTCGAGTAATTGTTGGTCACTCTCCATCCCACCAGGACGGGCACCCGATGGCGGGGGTTTCAAATATAGAGCTGGAGGTCGTGACAAACAGTTCTACGGT',\n",
              " 'GCGTGCTAATCACCAGTTTCAAGACCAATCTCTGAACACCTTGCAATGGACCTCTCGGAGTTCGCATGGCAGAACAGTGATCGATACGCCTATAGTCATA',\n",
              " 'GCCTGCCGCGTGTTTCGCGCTGTAAGCACTACCCACTGGAGCAGACCGTCCGTCCTCGAAAGACGTTCGTAAAGGTCTAAAACCGGCTGTTAATCAGAAG',\n",
              " 'TTGCCTACGTTGCACTCGCGTCTGAGTCAAACAGCTGCAGTCTAAAAAAGGTTACCACTTGTCGCCCCCACCGGAGCACGAACACTTATAAATGCACTCG',\n",
              " 'TGTGACAATACCTGACCGCACAACTACCATAGGTTAGATTCTCTAGCCATTACGTCAAGGAACTGTGTTCGCATTGTTCGCGGTAATCCTGAATGTTCGT',\n",
              " 'TACCACGTTGTGGTGGAAAGGCATTGGTGTATGCAATACGTCGGTCGCCGATGCGTAACCTTAGGCTGCATTACTAGACTTGTATAATGTGTTTATTCCA',\n",
              " 'ATGGAGTCCAGCCCAGGGGGCAATGGAGTCTGACTGATACGCGGCTGATTGAAAAATAAGTTATCGTATCGCTGTAAATAGTAGCCGCGGTGGTGCTAAA',\n",
              " 'GTTCGCCAATGCCCCGTAAGGACCCAATTCCAGCCGTAATGTTGTTTAGCTAATTTTTAGGTGTTCGAGGTAACTGGAGGAGCGGGGCTGGAGGTAATGT',\n",
              " 'GGCAGGTGATAGATCGGGAGGCGAAGCATGACTCACTTATATTGCAATTTAAGACGGGCGCGCTGAGAGATGTGACAATCGCTAGGACTGCCCCGCCGCA',\n",
              " 'GTAATAAAAACACATGTACTACTGAAGACTCAACTCTAAAATGCGGGCAGGAGTGCAGGTACTAGGCTCGTTTGGCAGGAAACAAGCTACGTCCACAAGT',\n",
              " 'CGGCACACAGGTGCATTTTCCGTGAATGACCGAACGTGAGGACAGATTATATCCGACTTGCTCTACTAGTGGTTCTGTGTACCCTGGCATGGCGCATCGA',\n",
              " 'GCATTGATGCATCGATAGAAATGGAGCAGTTAAGCGGACGTCCATGTGTGGATGTAAACTTGATTGTTAGGAATATTAAAGACGGCGTTGGAGTCGTGTT',\n",
              " 'ATGCAATTTACCCTCGCCAAATCGGTCCGTTTTATAGCTTGCGTCTTATGGTAGTTTGTAAAATTGATCCCCTATGCCCATCCTTCCACCTGTATGCTAA',\n",
              " 'TGATCGCTGGCATGTCGACATAGAACGATAGACGTTATGTCTCGGCCCTACGTTCTGCCTTTTGACTGAGGCTATAAAGCAGCACGTTACGATGGAAACA',\n",
              " 'GGCCCGAGCTAGCAATATCGTCTACTCCAGTCGAGTTACACGCGAGACGGCTCTACTAGCTCCAGCGTCAAAACTTGGACGAAGAACCCAGGTCGTAACA',\n",
              " 'TGACCCATCAAGCTCAGGATCAGTGGCTATTTCTTTCGGGAACCCCAAGCCTGAGCGTCAATACTAGCACCACGGGTGCTAAGGGCGGACTAGCACAGCT',\n",
              " 'CGTAATATCCGACTATCATATTACATGACGTCTCAGGACAAACCAATCGGCGAATCTTGACTCGGGGGGACCGGGATTTAATCCAAAAGCGTTGCTGCCG']"
            ]
          },
          "metadata": {},
          "execution_count": 11
        }
      ]
    },
    {
      "cell_type": "code",
      "source": [
        "# prompt: generate randomly (variable lenght) labels like this labels = [\"Harmful\", \"Neutral\", \"Beneficial\", \"Neutral\", \"Harmful\", \"Beneficial\", \"Neutral\", \"Harmful\"]\n",
        "\n",
        "import random\n",
        "\n",
        "labels = []\n",
        "label_options = [\"Harmful\", \"Neutral\", \"Beneficial\"]\n",
        "for _ in range(len(dna_sequences)):\n",
        "  labels.append(random.choice(label_options))\n",
        "\n",
        "labels\n"
      ],
      "metadata": {
        "colab": {
          "base_uri": "https://localhost:8080/"
        },
        "id": "I7EF2g9Qu8kk",
        "outputId": "4959be25-05a9-42fe-fcbd-62c017db36a5"
      },
      "execution_count": 14,
      "outputs": [
        {
          "output_type": "execute_result",
          "data": {
            "text/plain": [
              "['Neutral',\n",
              " 'Harmful',\n",
              " 'Neutral',\n",
              " 'Harmful',\n",
              " 'Neutral',\n",
              " 'Harmful',\n",
              " 'Harmful',\n",
              " 'Harmful',\n",
              " 'Harmful',\n",
              " 'Harmful',\n",
              " 'Beneficial',\n",
              " 'Beneficial',\n",
              " 'Beneficial',\n",
              " 'Neutral',\n",
              " 'Neutral',\n",
              " 'Beneficial',\n",
              " 'Neutral',\n",
              " 'Neutral',\n",
              " 'Neutral',\n",
              " 'Beneficial']"
            ]
          },
          "metadata": {},
          "execution_count": 14
        }
      ]
    },
    {
      "cell_type": "code",
      "execution_count": 15,
      "metadata": {
        "colab": {
          "base_uri": "https://localhost:8080/",
          "height": 984
        },
        "id": "nrR2tdeZtO1x",
        "outputId": "8567f291-7174-4b57-a659-d01ec1c82eed"
      },
      "outputs": [
        {
          "output_type": "stream",
          "name": "stdout",
          "text": [
            "Epoch 1/10\n"
          ]
        },
        {
          "output_type": "stream",
          "name": "stderr",
          "text": [
            "/usr/local/lib/python3.11/dist-packages/keras/src/layers/core/embedding.py:90: UserWarning: Argument `input_length` is deprecated. Just remove it.\n",
            "  warnings.warn(\n"
          ]
        },
        {
          "output_type": "stream",
          "name": "stdout",
          "text": [
            "\u001b[1m8/8\u001b[0m \u001b[32m━━━━━━━━━━━━━━━━━━━━\u001b[0m\u001b[37m\u001b[0m \u001b[1m2s\u001b[0m 39ms/step - accuracy: 0.2508 - loss: 1.1000 - val_accuracy: 0.5000 - val_loss: 1.0989\n",
            "Epoch 2/10\n",
            "\u001b[1m8/8\u001b[0m \u001b[32m━━━━━━━━━━━━━━━━━━━━\u001b[0m\u001b[37m\u001b[0m \u001b[1m0s\u001b[0m 12ms/step - accuracy: 0.4115 - loss: 1.0771 - val_accuracy: 0.5000 - val_loss: 1.0932\n",
            "Epoch 3/10\n",
            "\u001b[1m8/8\u001b[0m \u001b[32m━━━━━━━━━━━━━━━━━━━━\u001b[0m\u001b[37m\u001b[0m \u001b[1m0s\u001b[0m 12ms/step - accuracy: 0.6103 - loss: 1.0724 - val_accuracy: 0.7500 - val_loss: 1.0924\n",
            "Epoch 4/10\n",
            "\u001b[1m8/8\u001b[0m \u001b[32m━━━━━━━━━━━━━━━━━━━━\u001b[0m\u001b[37m\u001b[0m \u001b[1m0s\u001b[0m 12ms/step - accuracy: 0.8110 - loss: 1.0568 - val_accuracy: 0.7500 - val_loss: 1.0925\n",
            "Epoch 5/10\n",
            "\u001b[1m8/8\u001b[0m \u001b[32m━━━━━━━━━━━━━━━━━━━━\u001b[0m\u001b[37m\u001b[0m \u001b[1m0s\u001b[0m 12ms/step - accuracy: 0.9689 - loss: 1.0111 - val_accuracy: 0.7500 - val_loss: 1.0858\n",
            "Epoch 6/10\n",
            "\u001b[1m8/8\u001b[0m \u001b[32m━━━━━━━━━━━━━━━━━━━━\u001b[0m\u001b[37m\u001b[0m \u001b[1m0s\u001b[0m 12ms/step - accuracy: 0.8976 - loss: 0.9921 - val_accuracy: 0.5000 - val_loss: 1.0870\n",
            "Epoch 7/10\n",
            "\u001b[1m8/8\u001b[0m \u001b[32m━━━━━━━━━━━━━━━━━━━━\u001b[0m\u001b[37m\u001b[0m \u001b[1m0s\u001b[0m 13ms/step - accuracy: 0.9689 - loss: 0.9300 - val_accuracy: 0.7500 - val_loss: 1.0882\n",
            "Epoch 8/10\n",
            "\u001b[1m8/8\u001b[0m \u001b[32m━━━━━━━━━━━━━━━━━━━━\u001b[0m\u001b[37m\u001b[0m \u001b[1m0s\u001b[0m 13ms/step - accuracy: 0.8421 - loss: 0.8678 - val_accuracy: 0.7500 - val_loss: 1.0847\n",
            "Epoch 9/10\n",
            "\u001b[1m8/8\u001b[0m \u001b[32m━━━━━━━━━━━━━━━━━━━━\u001b[0m\u001b[37m\u001b[0m \u001b[1m0s\u001b[0m 12ms/step - accuracy: 0.9254 - loss: 0.8104 - val_accuracy: 0.5000 - val_loss: 1.1017\n",
            "Epoch 10/10\n",
            "\u001b[1m8/8\u001b[0m \u001b[32m━━━━━━━━━━━━━━━━━━━━\u001b[0m\u001b[37m\u001b[0m \u001b[1m0s\u001b[0m 12ms/step - accuracy: 1.0000 - loss: 0.7024 - val_accuracy: 0.2500 - val_loss: 1.1174\n"
          ]
        },
        {
          "output_type": "display_data",
          "data": {
            "text/plain": [
              "<Figure size 800x500 with 1 Axes>"
            ],
            "image/png": "[encoded data removed]"
          },
          "metadata": {}
        },
        {
          "output_type": "stream",
          "name": "stdout",
          "text": [
            "\u001b[1m1/1\u001b[0m \u001b[32m━━━━━━━━━━━━━━━━━━━━\u001b[0m\u001b[37m\u001b[0m \u001b[1m0s\u001b[0m 365ms/step - accuracy: 0.2500 - loss: 1.1174\n",
            "Test Accuracy: 25.00%\n",
            "\u001b[1m1/1\u001b[0m \u001b[32m━━━━━━━━━━━━━━━━━━━━\u001b[0m\u001b[37m\u001b[0m \u001b[1m0s\u001b[0m 88ms/step\n",
            "Predicted Effect: Neutral\n"
          ]
        }
      ],
      "source": [
        "import numpy as np\n",
        "import tensorflow as tf\n",
        "from tensorflow.keras.preprocessing.text import Tokenizer\n",
        "from tensorflow.keras.preprocessing.sequence import pad_sequences\n",
        "from tensorflow.keras.models import Sequential\n",
        "from tensorflow.keras.layers import Embedding, Flatten, Dense\n",
        "from sklearn.preprocessing import LabelEncoder\n",
        "from sklearn.model_selection import train_test_split\n",
        "import matplotlib.pyplot as plt\n",
        "\n",
        "\"\"\"# Example DNA sequences (replace with real data)\n",
        "dna_sequences = [\n",
        "    \"ATCGTAGCTAGT\", \"GCTAGCTAGCTA\", \"TGCATGCATGCA\", \"ATGCGTACGTAC\",\n",
        "    \"GTACGTACGTAC\", \"CTAGCTAGCTAG\", \"TGCATGCATGCA\", \"ATCGTAGCTAGT\"\n",
        "]\"\"\"\n",
        "# Corresponding labels: 0 = Harmful, 1 = Neutral, 2 = Beneficial\n",
        "#labels = [\"Harmful\", \"Neutral\", \"Beneficial\", \"Neutral\", \"Harmful\", \"Beneficial\", \"Neutral\", \"Harmful\"]\n",
        "\n",
        "# Encode labels correctly\n",
        "label_encoder = LabelEncoder()\n",
        "labels = label_encoder.fit_transform(labels)  # Converts to [0, 1, 2] (no -1 values)\n",
        "\n",
        "# Tokenize DNA sequences (Convert ATCG to numeric representation)\n",
        "tokenizer = Tokenizer(char_level=True)  # Treats each letter (A, T, C, G) as a token\n",
        "tokenizer.fit_on_texts(dna_sequences)\n",
        "sequences = tokenizer.texts_to_sequences(dna_sequences)\n",
        "\n",
        "# Pad sequences to make them of equal length\n",
        "max_length = max(len(seq) for seq in sequences)\n",
        "X = pad_sequences(sequences, maxlen=max_length, padding='post')\n",
        "y = np.array(labels)\n",
        "\n",
        "# Split dataset into training and testing sets\n",
        "X_train, X_test, y_train, y_test = train_test_split(X, y, test_size=0.2, random_state=42)\n",
        "\n",
        "# Build a simple neural network for DNA effect prediction\n",
        "model = Sequential([\n",
        "    Embedding(input_dim=len(tokenizer.word_index) + 1, output_dim=8, input_length=max_length),\n",
        "    Flatten(),\n",
        "    Dense(8, activation='relu'),\n",
        "    Dense(3, activation='softmax')  # 3 classes: Harmful, Neutral, Beneficial\n",
        "])\n",
        "\n",
        "# Compile the model (Use sparse_categorical_crossentropy for integer labels)\n",
        "model.compile(optimizer='adam', loss='sparse_categorical_crossentropy', metrics=['accuracy'])\n",
        "\n",
        "# Train the model\n",
        "history = model.fit(X_train, y_train, epochs=10, batch_size=2, validation_data=(X_test, y_test))\n",
        "\n",
        "# Plot training accuracy and loss in one graph\n",
        "plt.figure(figsize=(8, 5))\n",
        "plt.plot(history.history['accuracy'], label='Training Accuracy', color='b')\n",
        "plt.plot(history.history['loss'], label='Loss', color='r')\n",
        "plt.xlabel('Epochs')\n",
        "plt.ylabel('Value')\n",
        "plt.legend()\n",
        "plt.title('Training Accuracy and Loss Over Epochs')\n",
        "plt.show()\n",
        "\n",
        "# Evaluate the model\n",
        "loss, accuracy = model.evaluate(X_test, y_test)\n",
        "print(f\"Test Accuracy: {accuracy * 100:.2f}%\")\n",
        "\n",
        "# Example prediction (Modify a DNA sequence)\n",
        "sample_dna = [\"ATGCGTACGTAC\"]  # Example DNA modification\n",
        "sample_seq = tokenizer.texts_to_sequences(sample_dna)\n",
        "sample_seq = pad_sequences(sample_seq, maxlen=max_length, padding='post')\n",
        "\n",
        "# Predict class\n",
        "predicted_class = np.argmax(model.predict(sample_seq), axis=-1)[0]\n",
        "print(f\"Predicted Effect: {label_encoder.classes_[predicted_class]}\")\n"
      ]
    }
  ]
}